{
 "cells": [
  {
   "cell_type": "markdown",
   "id": "75798273",
   "metadata": {},
   "source": [
    "# Prosper Loan Data Investigation\n",
    "## by Angel Newportright\n",
    "\n",
    "\n",
    "## Dataset\n",
    "\n",
    "This data set contains 47,298 loans with 20 variables on each loan, including loan amount, borrower rate (or interest rate), current loan status, borrower income, and many others.\n",
    "\n",
    "Find the link to the data [here](https://s3.amazonaws.com/udacity-hosted-downloads/ud651/prosperLoanData.csv), with data dictionary available [here](https://docs.google.com/spreadsheets/d/1gDyi_L4UvIrLTEC6Wri5nbaMmkGmLQBk-Yx3z0XDEtI/edit#gid=0).\n",
    "\n",
    "\n",
    "## Summary of Findings\n",
    "\n",
    "In the exploration, I found that; \n",
    "\n",
    "1. More loans fall under debt consolidation listing category.\n",
    "\n",
    "What this mean is that debt consolidation is the majority \n",
    "reason why people apply for loan on the prosper platform. \n",
    "i.e, majority of the loans are taken to repay smaller loans.\n",
    "\n",
    "2. There is no relationship between monthly income and loan \n",
    "original amount.\n",
    "\n",
    "What this means is that the monthly income of a person does \n",
    "not directly impact the amount on the loan they apply for on \n",
    "the prosper platform.\n",
    "\n",
    "Furthermore, I verified the relationship between the 'Loan Original Amount', \n",
    "the 'StatedMonthlyIncome' and the 'BorrowerAPR' For the dataset \n",
    "given. \n",
    "\n",
    "There was no interaction between (i) the amont of a loan, \n",
    "(ii). The stated monthly income of borrowers and (iii) the annual \n",
    "percenatage rate borrowers.\n",
    "\n",
    "\n",
    "## Key Insights for Presentation\n",
    "\n",
    "For the presentation, I focused on just three key Insights\n",
    "1. The Loan Status count of borrowers with Verifiable Income \n",
    "versus Not-Verifiable Income.\n",
    "\n",
    "Note: Here, i excluded the count of loan with 'cancelled' loan status as the count is ONE.\n",
    "\n",
    "2. Loan application count by employment status\n",
    "3. The relationship that exist betweeen the number of friends that \n",
    "invested in a loan and number of investors that are not friends.\n",
    "\n",
    "\n",
    "Afterwards, I examined the relationship that exist between home-owner \n",
    "status and loan amount with the respective monthly repayment amount.\n",
    "\n",
    "I used a scatterplot to examine this relationship. I've madesure to \n",
    "use different color palettes for each quality variable to make sure \n",
    "it is clear that they're different between plots."
   ]
  }
 ],
 "metadata": {
  "kernelspec": {
   "display_name": "Python 3 (ipykernel)",
   "language": "python",
   "name": "python3"
  },
  "language_info": {
   "codemirror_mode": {
    "name": "ipython",
    "version": 3
   },
   "file_extension": ".py",
   "mimetype": "text/x-python",
   "name": "python",
   "nbconvert_exporter": "python",
   "pygments_lexer": "ipython3",
   "version": "3.9.12"
  }
 },
 "nbformat": 4,
 "nbformat_minor": 5
}
